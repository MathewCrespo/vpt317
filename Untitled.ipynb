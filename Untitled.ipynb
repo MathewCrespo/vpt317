{
 "cells": [
  {
   "cell_type": "code",
   "execution_count": 3,
   "id": "b2d9e667",
   "metadata": {},
   "outputs": [],
   "source": [
    "import torch\n",
    "import torchvision.datasets"
   ]
  },
  {
   "cell_type": "code",
   "execution_count": 10,
   "id": "85d49404",
   "metadata": {},
   "outputs": [],
   "source": [
    "_FILES = {\n",
    "        \"train\": {\n",
    "            \"images\": (\n",
    "                \"camelyonpatch_level_2_split_train_x.h5\",  # Data file name\n",
    "                \"1Ka0XfEMiwgCYPdTI-vv6eUElOBnKFKQ2\",  # Google Drive ID\n",
    "                \"1571f514728f59376b705fc836ff4b63\",  # md5 hash\n",
    "            ),\n",
    "            \"targets\": (\n",
    "                \"camelyonpatch_level_2_split_train_y.h5\",\n",
    "                \"1269yhu3pZDP8UYFQs-NYs3FPwuK-nGSG\",\n",
    "                \"35c2d7259d906cfc8143347bb8e05be7\",\n",
    "            ),\n",
    "        },\n",
    "        \"test\": {\n",
    "            \"images\": (\n",
    "                \"camelyonpatch_level_2_split_test_x.h5\",\n",
    "                \"1qV65ZqZvWzuIVthK8eVDhIwrbnsJdbg_\",\n",
    "                \"d5b63470df7cfa627aeec8b9dc0c066e\",\n",
    "            ),\n",
    "            \"targets\": (\n",
    "                \"camelyonpatch_level_2_split_test_y.h5\",\n",
    "                \"17BHrSrwWKjYsOgTMmoqrIjDy6Fa2o_gP\",\n",
    "                \"2b85f58b927af9964a4c15b8f7e8f179\",\n",
    "            ),\n",
    "        },\n",
    "        \"val\": {\n",
    "            \"images\": (\n",
    "                \"camelyonpatch_level_2_split_valid_x.h5\",\n",
    "                \"1hgshYGWK8V-eGRy8LToWJJgDU_rXWVJ3\",\n",
    "                \"d8c2d60d490dbd479f8199bdfa0cf6ec\",\n",
    "            ),\n",
    "            \"targets\": (\n",
    "                \"camelyonpatch_level_2_split_valid_y.h5\",\n",
    "                \"1bH8ZRbhSVAhScTS0p9-ZzGnX91cHT3uO\",\n",
    "                \"60a7035772fbdb7f34eb86d4420cf66a\",\n",
    "            ),\n",
    "        },\n",
    "    }"
   ]
  },
  {
   "cell_type": "code",
   "execution_count": 13,
   "id": "01190b69",
   "metadata": {},
   "outputs": [
    {
     "data": {
      "text/plain": [
       "dict_values([('camelyonpatch_level_2_split_train_x.h5', '1Ka0XfEMiwgCYPdTI-vv6eUElOBnKFKQ2', '1571f514728f59376b705fc836ff4b63'), ('camelyonpatch_level_2_split_train_y.h5', '1269yhu3pZDP8UYFQs-NYs3FPwuK-nGSG', '35c2d7259d906cfc8143347bb8e05be7')])"
      ]
     },
     "execution_count": 13,
     "metadata": {},
     "output_type": "execute_result"
    }
   ],
   "source": [
    "_FILES['train'].values()"
   ]
  },
  {
   "cell_type": "code",
   "execution_count": null,
   "id": "cf5c92f8",
   "metadata": {},
   "outputs": [],
   "source": [
    "\n",
    "for file_name, file_id, md5 in _FILES['train'].values():\n",
    "            archive_name = file_name + \".gz\"\n",
    "            download_file_from_google_drive(file_id, str(root), filename=archive_name, md5=md5)\n",
    "            _decompress(str(root / archive_name))"
   ]
  },
  {
   "cell_type": "code",
   "execution_count": 8,
   "id": "e9eb6edb",
   "metadata": {},
   "outputs": [
    {
     "data": {
      "text/plain": [
       "'0.9.1'"
      ]
     },
     "execution_count": 8,
     "metadata": {},
     "output_type": "execute_result"
    }
   ],
   "source": [
    "torchvision.__version__"
   ]
  },
  {
   "cell_type": "code",
   "execution_count": 4,
   "id": "1e1da0cd",
   "metadata": {},
   "outputs": [
    {
     "ename": "AttributeError",
     "evalue": "module 'torchvision.datasets' has no attribute 'PCAM'",
     "output_type": "error",
     "traceback": [
      "\u001b[0;31m---------------------------------------------------------------------------\u001b[0m",
      "\u001b[0;31mAttributeError\u001b[0m                            Traceback (most recent call last)",
      "Input \u001b[0;32mIn [4]\u001b[0m, in \u001b[0;36m<cell line: 2>\u001b[0;34m()\u001b[0m\n\u001b[1;32m      1\u001b[0m root \u001b[38;5;241m=\u001b[39m \u001b[38;5;124m'\u001b[39m\u001b[38;5;124m/remote-home/share/VPT/data\u001b[39m\u001b[38;5;124m'\u001b[39m\n\u001b[0;32m----> 2\u001b[0m pcam \u001b[38;5;241m=\u001b[39m \u001b[43mtorchvision\u001b[49m\u001b[38;5;241;43m.\u001b[39;49m\u001b[43mdatasets\u001b[49m\u001b[38;5;241;43m.\u001b[39;49m\u001b[43mPCAM\u001b[49m(root, split\u001b[38;5;241m=\u001b[39m \u001b[38;5;124m'\u001b[39m\u001b[38;5;124mtrain\u001b[39m\u001b[38;5;124m'\u001b[39m, download\u001b[38;5;241m=\u001b[39m \u001b[38;5;28;01mTrue\u001b[39;00m)\n",
      "\u001b[0;31mAttributeError\u001b[0m: module 'torchvision.datasets' has no attribute 'PCAM'"
     ]
    }
   ],
   "source": [
    "root = '/remote-home/share/VPT/data'\n",
    "pcam = torchvision.datasets.PCAM(root, split= 'train', download= True)"
   ]
  },
  {
   "cell_type": "code",
   "execution_count": null,
   "id": "a32a12b5",
   "metadata": {},
   "outputs": [
    {
     "name": "stderr",
     "output_type": "stream",
     "text": [
      "2022-08-09 06:17:30.849873: I tensorflow/core/util/util.cc:169] oneDNN custom operations are on. You may see slightly different numerical results due to floating-point round-off errors from different computation orders. To turn them off, set the environment variable `TF_ENABLE_ONEDNN_OPTS=0`.\n",
      "2022-08-09 06:17:33.639003: W tensorflow/core/platform/cloud/google_auth_provider.cc:184] All attempts to get a Google authentication bearer token failed, returning an empty token. Retrieving token from files failed with \"NOT_FOUND: Could not locate the credentials file.\". Retrieving token from GCE failed with \"FAILED_PRECONDITION: Error executing an HTTP request: libcurl code 6 meaning 'Couldn't resolve host name', error details: Could not resolve host: metadata\".\n",
      "2022-08-09 06:18:34.657023: E tensorflow/core/platform/cloud/curl_http_request.cc:614] The transmission  of request 0x55eb182e1d00 (URI: https://www.googleapis.com/storage/v1/b/tfds-data/o/dataset_info%2Fcaltech101%2F3.0.1?fields=size%2Cgeneration%2Cupdated) has been stuck at 0 of 0 bytes for 61 seconds and will be aborted. CURL timing information: lookup time: 0.024315 (No error), connect time: 0 (No error), pre-transfer time: 0 (No error), start-transfer time: 0 (No error)\n"
     ]
    }
   ],
   "source": [
    "import tensorflow_datasets as tfds\n",
    "data_dir = \"\"  # TODO: setup the data_dir to put the the data to, the DATA.DATAPATH value in config\n",
    "\n",
    "# caltech101\n",
    "dataset_builder = tfds.builder(\"caltech101:3.*.*\", data_dir=data_dir)\n",
    "dataset_builder.download_and_prepare()\n",
    "\n",
    "# cifar100\n",
    "dataset_builder = tfds.builder(\"cifar100:3.*.*\", data_dir=data_dir)\n",
    "dataset_builder.download_and_prepare()\n",
    "\n",
    "# clevr\n",
    "dataset_builder = tfds.builder(\"clevr:3.*.*\", data_dir=data_dir)\n",
    "dataset_builder.download_and_prepare()\n",
    "\n",
    "# dmlab\n",
    "dataset_builder = tfds.builder(\"dmlab:2.0.1\", data_dir=data_dir)\n",
    "dataset_builder.download_and_prepare()\n",
    "\n",
    "# dsprites\n",
    "dataset_builder = tfds.builder(\"dsprites:2.*.*\", data_dir=data_dir)\n",
    "dataset_builder.download_and_prepare()\n",
    "\n",
    "# dtd\n",
    "dataset_builder = tfds.builder(\"dtd:3.*.*\", data_dir=data_dir)\n",
    "dataset_builder.download_and_prepare()\n",
    "\n",
    "# eurosat\n",
    "subset=\"rgb\"\n",
    "dataset_name = \"eurosat/{}:2.*.*\".format(subset)\n",
    "dataset_builder = tfds.builder(dataset_name, data_dir=data_dir)\n",
    "dataset_builder.download_and_prepare()\n",
    "\n",
    "# oxford_flowers102\n",
    "dataset_builder = tfds.builder(\"oxford_flowers102:2.*.*\", data_dir=data_dir)\n",
    "dataset_builder.download_and_prepare()\n",
    "\n",
    "# oxford_iiit_pet\n",
    "dataset_builder = tfds.builder(\"oxford_iiit_pet:3.*.*\", data_dir=data_dir)\n",
    "dataset_builder.download_and_prepare()\n",
    "\n",
    "# patch_camelyon\n",
    "dataset_builder = tfds.builder(\"patch_camelyon:2.*.*\", data_dir=data_dir)\n",
    "dataset_builder.download_and_prepare()\n",
    "\n",
    "# smallnorb\n",
    "dataset_builder = tfds.builder(\"smallnorb:2.*.*\", data_dir=data_dir)\n",
    "dataset_builder.download_and_prepare()\n",
    "\n",
    "# svhn\n",
    "dataset_builder = tfds.builder(\"svhn_cropped:3.*.*\", data_dir=data_dir)\n",
    "dataset_builder.download_and_prepare()"
   ]
  },
  {
   "cell_type": "code",
   "execution_count": 1,
   "id": "eaa6e1f9",
   "metadata": {},
   "outputs": [
    {
     "name": "stderr",
     "output_type": "stream",
     "text": [
      "2022-08-09 06:13:39.228890: I tensorflow/core/util/util.cc:169] oneDNN custom operations are on. You may see slightly different numerical results due to floating-point round-off errors from different computation orders. To turn them off, set the environment variable `TF_ENABLE_ONEDNN_OPTS=0`.\n"
     ]
    }
   ],
   "source": [
    "import tensorflow"
   ]
  },
  {
   "cell_type": "code",
   "execution_count": 1,
   "id": "1ed8bf1f",
   "metadata": {},
   "outputs": [
    {
     "name": "stderr",
     "output_type": "stream",
     "text": [
      "2022-08-09 06:20:10.654590: I tensorflow/core/util/util.cc:169] oneDNN custom operations are on. You may see slightly different numerical results due to floating-point round-off errors from different computation orders. To turn them off, set the environment variable `TF_ENABLE_ONEDNN_OPTS=0`.\n"
     ]
    }
   ],
   "source": [
    "import tensorflow_datasets as tfds"
   ]
  },
  {
   "cell_type": "code",
   "execution_count": 2,
   "id": "1aa35882",
   "metadata": {},
   "outputs": [
    {
     "name": "stderr",
     "output_type": "stream",
     "text": [
      "2022-08-09 06:20:18.403919: W tensorflow/core/platform/cloud/google_auth_provider.cc:184] All attempts to get a Google authentication bearer token failed, returning an empty token. Retrieving token from files failed with \"NOT_FOUND: Could not locate the credentials file.\". Retrieving token from GCE failed with \"FAILED_PRECONDITION: Error executing an HTTP request: libcurl code 6 meaning 'Couldn't resolve host name', error details: Could not resolve host: metadata\".\n",
      "2022-08-09 06:21:19.424114: E tensorflow/core/platform/cloud/curl_http_request.cc:614] The transmission  of request 0x5618a894c120 (URI: https://www.googleapis.com/storage/v1/b/tfds-data/o/community-datasets-list.jsonl?fields=size%2Cgeneration%2Cupdated) has been stuck at 0 of 0 bytes for 61 seconds and will be aborted. CURL timing information: lookup time: 0.025258 (No error), connect time: 0 (No error), pre-transfer time: 0 (No error), start-transfer time: 0 (No error)\n",
      "2022-08-09 06:22:20.844977: E tensorflow/core/platform/cloud/curl_http_request.cc:614] The transmission  of request 0x5618a894c120 (URI: https://www.googleapis.com/storage/v1/b/tfds-data/o/community-datasets-list.jsonl?fields=size%2Cgeneration%2Cupdated) has been stuck at 0 of 0 bytes for 61 seconds and will be aborted. CURL timing information: lookup time: 0.025342 (No error), connect time: 0 (No error), pre-transfer time: 0 (No error), start-transfer time: 0 (No error)\n",
      "2022-08-09 06:23:22.170364: E tensorflow/core/platform/cloud/curl_http_request.cc:614] The transmission  of request 0x5618a894c120 (URI: https://www.googleapis.com/storage/v1/b/tfds-data/o/community-datasets-list.jsonl?fields=size%2Cgeneration%2Cupdated) has been stuck at 0 of 0 bytes for 61 seconds and will be aborted. CURL timing information: lookup time: 0.025379 (No error), connect time: 0 (No error), pre-transfer time: 0 (No error), start-transfer time: 0 (No error)\n",
      "2022-08-09 06:24:24.025022: E tensorflow/core/platform/cloud/curl_http_request.cc:614] The transmission  of request 0x5618a894c120 (URI: https://www.googleapis.com/storage/v1/b/tfds-data/o/community-datasets-list.jsonl?fields=size%2Cgeneration%2Cupdated) has been stuck at 0 of 0 bytes for 61 seconds and will be aborted. CURL timing information: lookup time: 0.024409 (No error), connect time: 0 (No error), pre-transfer time: 0 (No error), start-transfer time: 0 (No error)\n",
      "2022-08-09 06:25:25.995415: E tensorflow/core/platform/cloud/curl_http_request.cc:614] The transmission  of request 0x5618a894c120 (URI: https://www.googleapis.com/storage/v1/b/tfds-data/o/community-datasets-list.jsonl?fields=size%2Cgeneration%2Cupdated) has been stuck at 0 of 0 bytes for 61 seconds and will be aborted. CURL timing information: lookup time: 0.025429 (No error), connect time: 0 (No error), pre-transfer time: 0 (No error), start-transfer time: 0 (No error)\n",
      "2022-08-09 06:26:29.149032: E tensorflow/core/platform/cloud/curl_http_request.cc:614] The transmission  of request 0x5618a894c120 (URI: https://www.googleapis.com/storage/v1/b/tfds-data/o/community-datasets-list.jsonl?fields=size%2Cgeneration%2Cupdated) has been stuck at 0 of 0 bytes for 61 seconds and will be aborted. CURL timing information: lookup time: 0.024492 (No error), connect time: 0 (No error), pre-transfer time: 0 (No error), start-transfer time: 0 (No error)\n",
      "2022-08-09 06:27:33.937069: E tensorflow/core/platform/cloud/curl_http_request.cc:614] The transmission  of request 0x5618a894c120 (URI: https://www.googleapis.com/storage/v1/b/tfds-data/o/community-datasets-list.jsonl?fields=size%2Cgeneration%2Cupdated) has been stuck at 0 of 0 bytes for 61 seconds and will be aborted. CURL timing information: lookup time: 0.024468 (No error), connect time: 0 (No error), pre-transfer time: 0 (No error), start-transfer time: 0 (No error)\n",
      "2022-08-09 06:29:55.923224: E tensorflow/core/platform/cloud/curl_http_request.cc:614] The transmission  of request 0x5618a46ec000 (URI: https://www.googleapis.com/storage/v1/b/tfds-data/o/community-datasets-list.jsonl?fields=size%2Cgeneration%2Cupdated) has been stuck at 0 of 0 bytes for 61 seconds and will be aborted. CURL timing information: lookup time: 0.025329 (No error), connect time: 0 (No error), pre-transfer time: 0 (No error), start-transfer time: 0 (No error)\n",
      "2022-08-09 06:31:22.556993: E tensorflow/core/platform/cloud/curl_http_request.cc:614] The transmission  of request 0x5618a46ec000 (URI: https://www.googleapis.com/storage/v1/b/tfds-data/o/community-datasets-list.jsonl?fields=size%2Cgeneration%2Cupdated) has been stuck at 0 of 0 bytes for 61 seconds and will be aborted. CURL timing information: lookup time: 0.025546 (No error), connect time: 0 (No error), pre-transfer time: 0 (No error), start-transfer time: 0 (No error)\n",
      "2022-08-09 06:32:56.224044: E tensorflow/core/platform/cloud/curl_http_request.cc:614] The transmission  of request 0x5618a46ec000 (URI: https://www.googleapis.com/storage/v1/b/tfds-data/o/community-datasets-list.jsonl?fields=size%2Cgeneration%2Cupdated) has been stuck at 0 of 0 bytes for 61 seconds and will be aborted. CURL timing information: lookup time: 0.025326 (No error), connect time: 0 (No error), pre-transfer time: 0 (No error), start-transfer time: 0 (No error)\n"
     ]
    },
    {
     "data": {
      "text/plain": [
       "['abstract_reasoning',\n",
       " 'accentdb',\n",
       " 'aeslc',\n",
       " 'aflw2k3d',\n",
       " 'ag_news_subset',\n",
       " 'ai2_arc',\n",
       " 'ai2_arc_with_ir',\n",
       " 'amazon_us_reviews',\n",
       " 'anli',\n",
       " 'arc',\n",
       " 'asset',\n",
       " 'assin2',\n",
       " 'bair_robot_pushing_small',\n",
       " 'bccd',\n",
       " 'beans',\n",
       " 'bee_dataset',\n",
       " 'big_patent',\n",
       " 'bigearthnet',\n",
       " 'billsum',\n",
       " 'binarized_mnist',\n",
       " 'binary_alpha_digits',\n",
       " 'blimp',\n",
       " 'booksum',\n",
       " 'bool_q',\n",
       " 'c4',\n",
       " 'caltech101',\n",
       " 'caltech_birds2010',\n",
       " 'caltech_birds2011',\n",
       " 'cardiotox',\n",
       " 'cars196',\n",
       " 'cassava',\n",
       " 'cats_vs_dogs',\n",
       " 'celeb_a',\n",
       " 'celeb_a_hq',\n",
       " 'cfq',\n",
       " 'cherry_blossoms',\n",
       " 'chexpert',\n",
       " 'cifar10',\n",
       " 'cifar100',\n",
       " 'cifar10_1',\n",
       " 'cifar10_corrupted',\n",
       " 'citrus_leaves',\n",
       " 'cityscapes',\n",
       " 'civil_comments',\n",
       " 'clevr',\n",
       " 'clic',\n",
       " 'clinc_oos',\n",
       " 'cmaterdb',\n",
       " 'cnn_dailymail',\n",
       " 'coco',\n",
       " 'coco_captions',\n",
       " 'coil100',\n",
       " 'colorectal_histology',\n",
       " 'colorectal_histology_large',\n",
       " 'common_voice',\n",
       " 'coqa',\n",
       " 'cos_e',\n",
       " 'cosmos_qa',\n",
       " 'covid19',\n",
       " 'covid19sum',\n",
       " 'crema_d',\n",
       " 'cs_restaurants',\n",
       " 'curated_breast_imaging_ddsm',\n",
       " 'cycle_gan',\n",
       " 'd4rl_adroit_door',\n",
       " 'd4rl_adroit_hammer',\n",
       " 'd4rl_adroit_pen',\n",
       " 'd4rl_adroit_relocate',\n",
       " 'd4rl_antmaze',\n",
       " 'd4rl_mujoco_ant',\n",
       " 'd4rl_mujoco_halfcheetah',\n",
       " 'd4rl_mujoco_hopper',\n",
       " 'd4rl_mujoco_walker2d',\n",
       " 'dart',\n",
       " 'davis',\n",
       " 'deep_weeds',\n",
       " 'definite_pronoun_resolution',\n",
       " 'dementiabank',\n",
       " 'diabetic_retinopathy_detection',\n",
       " 'diamonds',\n",
       " 'div2k',\n",
       " 'dmlab',\n",
       " 'doc_nli',\n",
       " 'dolphin_number_word',\n",
       " 'domainnet',\n",
       " 'downsampled_imagenet',\n",
       " 'drop',\n",
       " 'dsprites',\n",
       " 'dtd',\n",
       " 'duke_ultrasound',\n",
       " 'e2e_cleaned',\n",
       " 'efron_morris75',\n",
       " 'emnist',\n",
       " 'eraser_multi_rc',\n",
       " 'esnli',\n",
       " 'eurosat',\n",
       " 'fashion_mnist',\n",
       " 'flic',\n",
       " 'flores',\n",
       " 'food101',\n",
       " 'forest_fires',\n",
       " 'fuss',\n",
       " 'gap',\n",
       " 'geirhos_conflict_stimuli',\n",
       " 'gem',\n",
       " 'genomics_ood',\n",
       " 'german_credit_numeric',\n",
       " 'gigaword',\n",
       " 'glue',\n",
       " 'goemotions',\n",
       " 'gov_report',\n",
       " 'gpt3',\n",
       " 'gref',\n",
       " 'groove',\n",
       " 'gsm8k',\n",
       " 'gtzan',\n",
       " 'gtzan_music_speech',\n",
       " 'hellaswag',\n",
       " 'higgs',\n",
       " 'horses_or_humans',\n",
       " 'howell',\n",
       " 'i_naturalist2017',\n",
       " 'i_naturalist2018',\n",
       " 'imagenet2012',\n",
       " 'imagenet2012_corrupted',\n",
       " 'imagenet2012_multilabel',\n",
       " 'imagenet2012_real',\n",
       " 'imagenet2012_subset',\n",
       " 'imagenet_a',\n",
       " 'imagenet_lt',\n",
       " 'imagenet_r',\n",
       " 'imagenet_resized',\n",
       " 'imagenet_sketch',\n",
       " 'imagenet_v2',\n",
       " 'imagenette',\n",
       " 'imagewang',\n",
       " 'imdb_reviews',\n",
       " 'irc_disentanglement',\n",
       " 'iris',\n",
       " 'istella',\n",
       " 'kddcup99',\n",
       " 'kitti',\n",
       " 'kmnist',\n",
       " 'lambada',\n",
       " 'lfw',\n",
       " 'librispeech',\n",
       " 'librispeech_lm',\n",
       " 'libritts',\n",
       " 'ljspeech',\n",
       " 'lm1b',\n",
       " 'lost_and_found',\n",
       " 'lsun',\n",
       " 'lvis',\n",
       " 'malaria',\n",
       " 'math_dataset',\n",
       " 'math_qa',\n",
       " 'mctaco',\n",
       " 'mlqa',\n",
       " 'mnist',\n",
       " 'mnist_corrupted',\n",
       " 'movie_lens',\n",
       " 'movie_rationales',\n",
       " 'movielens',\n",
       " 'moving_mnist',\n",
       " 'mslr_web',\n",
       " 'multi_news',\n",
       " 'multi_nli',\n",
       " 'multi_nli_mismatch',\n",
       " 'natural_questions',\n",
       " 'natural_questions_open',\n",
       " 'newsroom',\n",
       " 'nsynth',\n",
       " 'nyu_depth_v2',\n",
       " 'ogbg_molpcba',\n",
       " 'omniglot',\n",
       " 'open_images_challenge2019_detection',\n",
       " 'open_images_v4',\n",
       " 'openbookqa',\n",
       " 'opinion_abstracts',\n",
       " 'opinosis',\n",
       " 'opus',\n",
       " 'oxford_flowers102',\n",
       " 'oxford_iiit_pet',\n",
       " 'para_crawl',\n",
       " 'pass',\n",
       " 'patch_camelyon',\n",
       " 'paws_wiki',\n",
       " 'paws_x_wiki',\n",
       " 'penguins',\n",
       " 'pet_finder',\n",
       " 'pg19',\n",
       " 'piqa',\n",
       " 'places365_small',\n",
       " 'plant_leaves',\n",
       " 'plant_village',\n",
       " 'plantae_k',\n",
       " 'protein_net',\n",
       " 'qa4mre',\n",
       " 'qasc',\n",
       " 'quac',\n",
       " 'quickdraw_bitmap',\n",
       " 'race',\n",
       " 'radon',\n",
       " 'reddit',\n",
       " 'reddit_disentanglement',\n",
       " 'reddit_tifu',\n",
       " 'ref_coco',\n",
       " 'resisc45',\n",
       " 'rlu_atari',\n",
       " 'rlu_atari_checkpoints',\n",
       " 'rlu_atari_checkpoints_ordered',\n",
       " 'rlu_dmlab_explore_object_rewards_few',\n",
       " 'rlu_dmlab_explore_object_rewards_many',\n",
       " 'rlu_dmlab_rooms_select_nonmatching_object',\n",
       " 'rlu_dmlab_rooms_watermaze',\n",
       " 'rlu_dmlab_seekavoid_arena01',\n",
       " 'rlu_rwrl',\n",
       " 'robonet',\n",
       " 'robosuite_panda_pick_place_can',\n",
       " 'rock_paper_scissors',\n",
       " 'rock_you',\n",
       " 's3o4d',\n",
       " 'salient_span_wikipedia',\n",
       " 'samsum',\n",
       " 'savee',\n",
       " 'scan',\n",
       " 'scene_parse150',\n",
       " 'schema_guided_dialogue',\n",
       " 'scicite',\n",
       " 'scientific_papers',\n",
       " 'sentiment140',\n",
       " 'shapes3d',\n",
       " 'siscore',\n",
       " 'smallnorb',\n",
       " 'smartwatch_gestures',\n",
       " 'snli',\n",
       " 'so2sat',\n",
       " 'speech_commands',\n",
       " 'spoken_digit',\n",
       " 'squad',\n",
       " 'squad_question_generation',\n",
       " 'stanford_dogs',\n",
       " 'stanford_online_products',\n",
       " 'star_cfq',\n",
       " 'starcraft_video',\n",
       " 'stl10',\n",
       " 'story_cloze',\n",
       " 'summscreen',\n",
       " 'sun397',\n",
       " 'super_glue',\n",
       " 'svhn_cropped',\n",
       " 'symmetric_solids',\n",
       " 'tao',\n",
       " 'ted_hrlr_translate',\n",
       " 'ted_multi_translate',\n",
       " 'tedlium',\n",
       " 'tf_flowers',\n",
       " 'the300w_lp',\n",
       " 'tiny_shakespeare',\n",
       " 'titanic',\n",
       " 'trec',\n",
       " 'trivia_qa',\n",
       " 'tydi_qa',\n",
       " 'uc_merced',\n",
       " 'ucf101',\n",
       " 'vctk',\n",
       " 'visual_domain_decathlon',\n",
       " 'voc',\n",
       " 'voxceleb',\n",
       " 'voxforge',\n",
       " 'waymo_open_dataset',\n",
       " 'web_nlg',\n",
       " 'web_questions',\n",
       " 'wider_face',\n",
       " 'wiki40b',\n",
       " 'wiki_auto',\n",
       " 'wiki_bio',\n",
       " 'wiki_table_questions',\n",
       " 'wiki_table_text',\n",
       " 'wikiann',\n",
       " 'wikihow',\n",
       " 'wikipedia',\n",
       " 'wikipedia_toxicity_subtypes',\n",
       " 'wine_quality',\n",
       " 'winogrande',\n",
       " 'wit',\n",
       " 'wit_kaggle',\n",
       " 'wmt13_translate',\n",
       " 'wmt14_translate',\n",
       " 'wmt15_translate',\n",
       " 'wmt16_translate',\n",
       " 'wmt17_translate',\n",
       " 'wmt18_translate',\n",
       " 'wmt19_translate',\n",
       " 'wmt_t2t_translate',\n",
       " 'wmt_translate',\n",
       " 'wordnet',\n",
       " 'wsc273',\n",
       " 'xnli',\n",
       " 'xquad',\n",
       " 'xsum',\n",
       " 'xtreme_pawsx',\n",
       " 'xtreme_xnli',\n",
       " 'yelp_polarity_reviews',\n",
       " 'yes_no',\n",
       " 'youtube_vis']"
      ]
     },
     "execution_count": 2,
     "metadata": {},
     "output_type": "execute_result"
    }
   ],
   "source": [
    "tfds.list_builders()"
   ]
  },
  {
   "cell_type": "code",
   "execution_count": 3,
   "id": "b37f2403",
   "metadata": {},
   "outputs": [
    {
     "name": "stderr",
     "output_type": "stream",
     "text": [
      "2022-08-09 06:42:33.310247: E tensorflow/core/platform/cloud/curl_http_request.cc:614] The transmission  of request 0x5618a734ab40 (URI: https://www.googleapis.com/storage/v1/b/tfds-data/o/dataset_info%2Fdmlab%2F2.0.1?fields=size%2Cgeneration%2Cupdated) has been stuck at 0 of 0 bytes for 61 seconds and will be aborted. CURL timing information: lookup time: 0.025245 (No error), connect time: 0 (No error), pre-transfer time: 0 (No error), start-transfer time: 0 (No error)\n",
      "2022-08-09 06:43:34.527280: E tensorflow/core/platform/cloud/curl_http_request.cc:614] The transmission  of request 0x5618a734ab40 (URI: https://www.googleapis.com/storage/v1/b/tfds-data/o/dataset_info%2Fdmlab%2F2.0.1?fields=size%2Cgeneration%2Cupdated) has been stuck at 0 of 0 bytes for 61 seconds and will be aborted. CURL timing information: lookup time: 0.02445 (No error), connect time: 0 (No error), pre-transfer time: 0 (No error), start-transfer time: 0 (No error)\n",
      "2022-08-09 06:44:36.197004: E tensorflow/core/platform/cloud/curl_http_request.cc:614] The transmission  of request 0x5618a734ab40 (URI: https://www.googleapis.com/storage/v1/b/tfds-data/o/dataset_info%2Fdmlab%2F2.0.1?fields=size%2Cgeneration%2Cupdated) has been stuck at 0 of 0 bytes for 61 seconds and will be aborted. CURL timing information: lookup time: 0.024436 (No error), connect time: 0 (No error), pre-transfer time: 0 (No error), start-transfer time: 0 (No error)\n",
      "2022-08-09 06:45:38.365056: E tensorflow/core/platform/cloud/curl_http_request.cc:614] The transmission  of request 0x5618a734ab40 (URI: https://www.googleapis.com/storage/v1/b/tfds-data/o/dataset_info%2Fdmlab%2F2.0.1?fields=size%2Cgeneration%2Cupdated) has been stuck at 0 of 0 bytes for 61 seconds and will be aborted. CURL timing information: lookup time: 0.025383 (No error), connect time: 0 (No error), pre-transfer time: 0 (No error), start-transfer time: 0 (No error)\n",
      "2022-08-09 06:46:40.318351: E tensorflow/core/platform/cloud/curl_http_request.cc:614] The transmission  of request 0x5618a734ab40 (URI: https://www.googleapis.com/storage/v1/b/tfds-data/o/dataset_info%2Fdmlab%2F2.0.1?fields=size%2Cgeneration%2Cupdated) has been stuck at 0 of 0 bytes for 61 seconds and will be aborted. CURL timing information: lookup time: 0.025386 (No error), connect time: 0 (No error), pre-transfer time: 0 (No error), start-transfer time: 0 (No error)\n",
      "2022-08-09 06:47:43.768074: E tensorflow/core/platform/cloud/curl_http_request.cc:614] The transmission  of request 0x5618a734ab40 (URI: https://www.googleapis.com/storage/v1/b/tfds-data/o/dataset_info%2Fdmlab%2F2.0.1?fields=size%2Cgeneration%2Cupdated) has been stuck at 0 of 0 bytes for 61 seconds and will be aborted. CURL timing information: lookup time: 0.024446 (No error), connect time: 0 (No error), pre-transfer time: 0 (No error), start-transfer time: 0 (No error)\n",
      "2022-08-09 06:48:48.057736: E tensorflow/core/platform/cloud/curl_http_request.cc:614] The transmission  of request 0x5618a734ab40 (URI: https://www.googleapis.com/storage/v1/b/tfds-data/o/dataset_info%2Fdmlab%2F2.0.1?fields=size%2Cgeneration%2Cupdated) has been stuck at 0 of 0 bytes for 61 seconds and will be aborted. CURL timing information: lookup time: 0.025339 (No error), connect time: 0 (No error), pre-transfer time: 0 (No error), start-transfer time: 0 (No error)\n",
      "2022-08-09 06:50:09.343668: E tensorflow/core/platform/cloud/curl_http_request.cc:614] The transmission  of request 0x5618a734ab40 (URI: https://www.googleapis.com/storage/v1/b/tfds-data/o/dataset_info%2Fdmlab%2F2.0.1?fields=size%2Cgeneration%2Cupdated) has been stuck at 0 of 0 bytes for 61 seconds and will be aborted. CURL timing information: lookup time: 0.025354 (No error), connect time: 0 (No error), pre-transfer time: 0 (No error), start-transfer time: 0 (No error)\n",
      "2022-08-09 06:53:08.712923: E tensorflow/core/platform/cloud/curl_http_request.cc:614] The transmission  of request 0x5618a734ab40 (URI: https://www.googleapis.com/storage/v1/b/tfds-data/o/dataset_info%2Fdmlab%2F2.0.1?fields=size%2Cgeneration%2Cupdated) has been stuck at 0 of 0 bytes for 61 seconds and will be aborted. CURL timing information: lookup time: 0.024501 (No error), connect time: 0 (No error), pre-transfer time: 0 (No error), start-transfer time: 0 (No error)\n"
     ]
    },
    {
     "name": "stdout",
     "output_type": "stream",
     "text": [
      "\u001b[1mDownloading and preparing dataset Unknown size (download: Unknown size, generated: Unknown size, total: Unknown size) to /remote-home/share/VPT/data/dmlab/2.0.1...\u001b[0m\n"
     ]
    },
    {
     "name": "stderr",
     "output_type": "stream",
     "text": [
      "2022-08-09 06:54:09.949060: E tensorflow/core/platform/cloud/curl_http_request.cc:614] The transmission  of request 0x5618a734ab40 (URI: https://www.googleapis.com/storage/v1/b/tfds-data/o/datasets%2Fdmlab%2F2.0.1?fields=size%2Cgeneration%2Cupdated) has been stuck at 0 of 0 bytes for 61 seconds and will be aborted. CURL timing information: lookup time: 0.025302 (No error), connect time: 0 (No error), pre-transfer time: 0 (No error), start-transfer time: 0 (No error)\n",
      "2022-08-09 06:55:11.574340: E tensorflow/core/platform/cloud/curl_http_request.cc:614] The transmission  of request 0x5618a734ab40 (URI: https://www.googleapis.com/storage/v1/b/tfds-data/o/datasets%2Fdmlab%2F2.0.1?fields=size%2Cgeneration%2Cupdated) has been stuck at 0 of 0 bytes for 61 seconds and will be aborted. CURL timing information: lookup time: 0.024542 (No error), connect time: 0 (No error), pre-transfer time: 0 (No error), start-transfer time: 0 (No error)\n",
      "2022-08-09 06:56:13.542279: E tensorflow/core/platform/cloud/curl_http_request.cc:614] The transmission  of request 0x5618a734ab40 (URI: https://www.googleapis.com/storage/v1/b/tfds-data/o/datasets%2Fdmlab%2F2.0.1?fields=size%2Cgeneration%2Cupdated) has been stuck at 0 of 0 bytes for 61 seconds and will be aborted. CURL timing information: lookup time: 0.025383 (No error), connect time: 0 (No error), pre-transfer time: 0 (No error), start-transfer time: 0 (No error)\n",
      "2022-08-09 06:57:15.404770: E tensorflow/core/platform/cloud/curl_http_request.cc:614] The transmission  of request 0x5618a734ab40 (URI: https://www.googleapis.com/storage/v1/b/tfds-data/o/datasets%2Fdmlab%2F2.0.1?fields=size%2Cgeneration%2Cupdated) has been stuck at 0 of 0 bytes for 61 seconds and will be aborted. CURL timing information: lookup time: 0.025379 (No error), connect time: 0 (No error), pre-transfer time: 0 (No error), start-transfer time: 0 (No error)\n",
      "2022-08-09 06:58:17.986010: E tensorflow/core/platform/cloud/curl_http_request.cc:614] The transmission  of request 0x5618a734ab40 (URI: https://www.googleapis.com/storage/v1/b/tfds-data/o/datasets%2Fdmlab%2F2.0.1?fields=size%2Cgeneration%2Cupdated) has been stuck at 0 of 0 bytes for 61 seconds and will be aborted. CURL timing information: lookup time: 0.025318 (No error), connect time: 0 (No error), pre-transfer time: 0 (No error), start-transfer time: 0 (No error)\n",
      "2022-08-09 06:59:21.474857: E tensorflow/core/platform/cloud/curl_http_request.cc:614] The transmission  of request 0x5618a734ab40 (URI: https://www.googleapis.com/storage/v1/b/tfds-data/o/datasets%2Fdmlab%2F2.0.1?fields=size%2Cgeneration%2Cupdated) has been stuck at 0 of 0 bytes for 61 seconds and will be aborted. CURL timing information: lookup time: 0.024449 (No error), connect time: 0 (No error), pre-transfer time: 0 (No error), start-transfer time: 0 (No error)\n",
      "2022-08-09 07:00:25.975660: E tensorflow/core/platform/cloud/curl_http_request.cc:614] The transmission  of request 0x5618a734ab40 (URI: https://www.googleapis.com/storage/v1/b/tfds-data/o/datasets%2Fdmlab%2F2.0.1?fields=size%2Cgeneration%2Cupdated) has been stuck at 0 of 0 bytes for 61 seconds and will be aborted. CURL timing information: lookup time: 0.024474 (No error), connect time: 0 (No error), pre-transfer time: 0 (No error), start-transfer time: 0 (No error)\n",
      "2022-08-09 07:01:35.001270: E tensorflow/core/platform/cloud/curl_http_request.cc:614] The transmission  of request 0x5618a734ab40 (URI: https://www.googleapis.com/storage/v1/b/tfds-data/o/datasets%2Fdmlab%2F2.0.1?fields=size%2Cgeneration%2Cupdated) has been stuck at 0 of 0 bytes for 62 seconds and will be aborted. CURL timing information: lookup time: 0.024524 (No error), connect time: 0 (No error), pre-transfer time: 0 (No error), start-transfer time: 0 (No error)\n",
      "2022-08-09 07:02:49.059087: E tensorflow/core/platform/cloud/curl_http_request.cc:614] The transmission  of request 0x5618a734ab40 (URI: https://www.googleapis.com/storage/v1/b/tfds-data/o/datasets%2Fdmlab%2F2.0.1?fields=size%2Cgeneration%2Cupdated) has been stuck at 0 of 0 bytes for 61 seconds and will be aborted. CURL timing information: lookup time: 0.025557 (No error), connect time: 0 (No error), pre-transfer time: 0 (No error), start-transfer time: 0 (No error)\n",
      "2022-08-09 07:04:16.352577: E tensorflow/core/platform/cloud/curl_http_request.cc:614] The transmission  of request 0x5618a734ab40 (URI: https://www.googleapis.com/storage/v1/b/tfds-data/o/datasets%2Fdmlab%2F2.0.1?fields=size%2Cgeneration%2Cupdated) has been stuck at 0 of 0 bytes for 61 seconds and will be aborted. CURL timing information: lookup time: 0.024529 (No error), connect time: 0 (No error), pre-transfer time: 0 (No error), start-transfer time: 0 (No error)\n",
      "2022-08-09 07:05:49.910127: E tensorflow/core/platform/cloud/curl_http_request.cc:614] The transmission  of request 0x5618a734ab40 (URI: https://www.googleapis.com/storage/v1/b/tfds-data/o/datasets%2Fdmlab%2F2.0.1?fields=size%2Cgeneration%2Cupdated) has been stuck at 0 of 0 bytes for 61 seconds and will be aborted. CURL timing information: lookup time: 0.025404 (No error), connect time: 0 (No error), pre-transfer time: 0 (No error), start-transfer time: 0 (No error)\n"
     ]
    },
    {
     "data": {
      "application/vnd.jupyter.widget-view+json": {
       "model_id": "ce9ef88ce57240a8a0e0161a6ce3dfaa",
       "version_major": 2,
       "version_minor": 0
      },
      "text/plain": [
       "Dl Completed...: 0 url [00:00, ? url/s]"
      ]
     },
     "metadata": {},
     "output_type": "display_data"
    },
    {
     "data": {
      "application/vnd.jupyter.widget-view+json": {
       "model_id": "8b5af7c893b2489d9021cf5cced30c1a",
       "version_major": 2,
       "version_minor": 0
      },
      "text/plain": [
       "Dl Size...: 0 MiB [00:00, ? MiB/s]"
      ]
     },
     "metadata": {},
     "output_type": "display_data"
    },
    {
     "data": {
      "application/vnd.jupyter.widget-view+json": {
       "model_id": "a9b1494d569840d086b68a67b882ed1d",
       "version_major": 2,
       "version_minor": 0
      },
      "text/plain": [
       "Extraction completed...: 0 file [00:00, ? file/s]"
      ]
     },
     "metadata": {},
     "output_type": "display_data"
    },
    {
     "data": {
      "application/vnd.jupyter.widget-view+json": {
       "model_id": "",
       "version_major": 2,
       "version_minor": 0
      },
      "text/plain": [
       "Generating splits...:   0%|          | 0/3 [00:00<?, ? splits/s]"
      ]
     },
     "metadata": {},
     "output_type": "display_data"
    },
    {
     "data": {
      "application/vnd.jupyter.widget-view+json": {
       "model_id": "",
       "version_major": 2,
       "version_minor": 0
      },
      "text/plain": [
       "Generating train examples...: 0 examples [00:00, ? examples/s]"
      ]
     },
     "metadata": {},
     "output_type": "display_data"
    },
    {
     "name": "stderr",
     "output_type": "stream",
     "text": [
      "2022-08-09 07:10:37.622482: W tensorflow/stream_executor/platform/default/dso_loader.cc:64] Could not load dynamic library 'libcublas.so.11'; dlerror: libcublas.so.11: cannot open shared object file: No such file or directory; LD_LIBRARY_PATH: /usr/local/cuda/lib64:/usr/local/cuda/lib64:/usr/local/cuda/lib64:/usr/local/cuda/lib64:\n",
      "2022-08-09 07:10:37.622674: W tensorflow/stream_executor/platform/default/dso_loader.cc:64] Could not load dynamic library 'libcublasLt.so.11'; dlerror: libcublasLt.so.11: cannot open shared object file: No such file or directory; LD_LIBRARY_PATH: /usr/local/cuda/lib64:/usr/local/cuda/lib64:/usr/local/cuda/lib64:/usr/local/cuda/lib64:\n",
      "2022-08-09 07:10:37.622824: W tensorflow/stream_executor/platform/default/dso_loader.cc:64] Could not load dynamic library 'libcufft.so.10'; dlerror: libcufft.so.10: cannot open shared object file: No such file or directory; LD_LIBRARY_PATH: /usr/local/cuda/lib64:/usr/local/cuda/lib64:/usr/local/cuda/lib64:/usr/local/cuda/lib64:\n",
      "2022-08-09 07:10:37.622968: W tensorflow/stream_executor/platform/default/dso_loader.cc:64] Could not load dynamic library 'libcurand.so.10'; dlerror: libcurand.so.10: cannot open shared object file: No such file or directory; LD_LIBRARY_PATH: /usr/local/cuda/lib64:/usr/local/cuda/lib64:/usr/local/cuda/lib64:/usr/local/cuda/lib64:\n",
      "2022-08-09 07:10:37.623105: W tensorflow/stream_executor/platform/default/dso_loader.cc:64] Could not load dynamic library 'libcusolver.so.11'; dlerror: libcusolver.so.11: cannot open shared object file: No such file or directory; LD_LIBRARY_PATH: /usr/local/cuda/lib64:/usr/local/cuda/lib64:/usr/local/cuda/lib64:/usr/local/cuda/lib64:\n",
      "2022-08-09 07:10:37.623242: W tensorflow/stream_executor/platform/default/dso_loader.cc:64] Could not load dynamic library 'libcusparse.so.11'; dlerror: libcusparse.so.11: cannot open shared object file: No such file or directory; LD_LIBRARY_PATH: /usr/local/cuda/lib64:/usr/local/cuda/lib64:/usr/local/cuda/lib64:/usr/local/cuda/lib64:\n",
      "2022-08-09 07:10:37.623380: W tensorflow/stream_executor/platform/default/dso_loader.cc:64] Could not load dynamic library 'libcudnn.so.8'; dlerror: libcudnn.so.8: cannot open shared object file: No such file or directory; LD_LIBRARY_PATH: /usr/local/cuda/lib64:/usr/local/cuda/lib64:/usr/local/cuda/lib64:/usr/local/cuda/lib64:\n",
      "2022-08-09 07:10:37.623391: W tensorflow/core/common_runtime/gpu/gpu_device.cc:1850] Cannot dlopen some GPU libraries. Please make sure the missing libraries mentioned above are installed properly if you would like to use GPU. Follow the guide at https://www.tensorflow.org/install/gpu for how to download and setup the required libraries for your platform.\n",
      "Skipping registering GPU devices...\n",
      "2022-08-09 07:10:37.624165: I tensorflow/core/platform/cpu_feature_guard.cc:193] This TensorFlow binary is optimized with oneAPI Deep Neural Network Library (oneDNN) to use the following CPU instructions in performance-critical operations:  AVX2 AVX512F AVX512_VNNI FMA\n",
      "To enable them in other operations, rebuild TensorFlow with the appropriate compiler flags.\n",
      "2022-08-09 07:10:37.635574: I tensorflow/compiler/mlir/mlir_graph_optimization_pass.cc:354] MLIR V1 optimization pass is not enabled\n"
     ]
    },
    {
     "data": {
      "application/vnd.jupyter.widget-view+json": {
       "model_id": "",
       "version_major": 2,
       "version_minor": 0
      },
      "text/plain": [
       "Shuffling dmlab-train.tfrecord...:   0%|          | 0/65550 [00:00<?, ? examples/s]"
      ]
     },
     "metadata": {},
     "output_type": "display_data"
    },
    {
     "data": {
      "application/vnd.jupyter.widget-view+json": {
       "model_id": "",
       "version_major": 2,
       "version_minor": 0
      },
      "text/plain": [
       "Generating validation examples...: 0 examples [00:00, ? examples/s]"
      ]
     },
     "metadata": {},
     "output_type": "display_data"
    },
    {
     "data": {
      "application/vnd.jupyter.widget-view+json": {
       "model_id": "",
       "version_major": 2,
       "version_minor": 0
      },
      "text/plain": [
       "Shuffling dmlab-validation.tfrecord...:   0%|          | 0/22628 [00:00<?, ? examples/s]"
      ]
     },
     "metadata": {},
     "output_type": "display_data"
    },
    {
     "data": {
      "application/vnd.jupyter.widget-view+json": {
       "model_id": "",
       "version_major": 2,
       "version_minor": 0
      },
      "text/plain": [
       "Generating test examples...: 0 examples [00:00, ? examples/s]"
      ]
     },
     "metadata": {},
     "output_type": "display_data"
    },
    {
     "data": {
      "application/vnd.jupyter.widget-view+json": {
       "model_id": "",
       "version_major": 2,
       "version_minor": 0
      },
      "text/plain": [
       "Shuffling dmlab-test.tfrecord...:   0%|          | 0/22735 [00:00<?, ? examples/s]"
      ]
     },
     "metadata": {},
     "output_type": "display_data"
    },
    {
     "name": "stdout",
     "output_type": "stream",
     "text": [
      "\u001b[1mDataset dmlab downloaded and prepared to /remote-home/share/VPT/data/dmlab/2.0.1. Subsequent calls will reuse this data.\u001b[0m\n"
     ]
    }
   ],
   "source": [
    "data_dir = \"/remote-home/share/VPT/data\"\n",
    "dataset_builder = tfds.builder(\"dmlab:2.0.1\", data_dir=data_dir)\n",
    "dataset_builder.download_and_prepare()"
   ]
  },
  {
   "cell_type": "code",
   "execution_count": null,
   "id": "b94d70b1",
   "metadata": {},
   "outputs": [],
   "source": []
  }
 ],
 "metadata": {
  "kernelspec": {
   "display_name": "dl10",
   "language": "python",
   "name": "dl10"
  },
  "language_info": {
   "codemirror_mode": {
    "name": "ipython",
    "version": 3
   },
   "file_extension": ".py",
   "mimetype": "text/x-python",
   "name": "python",
   "nbconvert_exporter": "python",
   "pygments_lexer": "ipython3",
   "version": "3.8.3"
  }
 },
 "nbformat": 4,
 "nbformat_minor": 5
}
